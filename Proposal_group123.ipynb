{
 "cells": [
  {
   "cell_type": "markdown",
   "metadata": {},
   "source": [
    "# COGS 118B - Project Proposal"
   ]
  },
  {
   "cell_type": "markdown",
   "metadata": {},
   "source": [
    "# Names\n",
    "\n",
    "- Sidney Ma\n",
    "- Regan Yang\n",
    "- Noah Poremba\n",
    "- Andrew Pan"
   ]
  },
  {
   "cell_type": "markdown",
   "metadata": {},
   "source": [
    "# Abstract \n",
    "This project focuses on cluster analysis of songs based on the Spotify API’s audio feature measurements. We have collected 2,300 popular songs from the past two decades, with various audio features extracted from each song, such as tempo, energy, and valence. With this data, we will utilize a variety of machine learning algorithms to perform cluster analysis, with the end goal of categorizing songs based only on their audio features. If we determine that the songs do cluster based on these measurements, we will run several metrics to evaluate the model’s success. Afterward, we hope to interpret the clusters, and determine whether or not they resemble typical genre classifications. By uncovering the patterns and structures behind widely known music, this analysis seeks to enhance our understanding of music preferences, and hopefully contribute to improved music classification algorithms."
   ]
  },
  {
   "cell_type": "markdown",
   "metadata": {},
   "source": [
    "# Background\n",
    "\n",
    "Songs can have a variety of subjective qualities, but they typically group together into common categories, hence the existence of music genres. However, it’s difficult to quantify these categories, as it’s not clear what features of a song actually constitute them. The Spotify API offers a solution to this: for every song, it includes measurements of various audio features, such as tempo, energy, and danceability <a name=\"one\"></a>[<sup>[1]</sup>](#onenote). It has already been shown that these audio features can be used to predict a song’s genre with various rates of success <a name=\"two\"></a>[<sup>[2]</sup>](#twonote)<a name=\"three\"></a>[<sup>[3]</sup>](#threenote). However, it is not clear whether or not these audio feature measurements tend to cluster together on their own, without the aid of genre labels. Additionally, even if they do cluster into discrete groups, we do not know whether these groups would resemble typical genres (e.g. pop, hip-hop, rock), or if they would follow some other way of classifying music <a name=\"four\"></a>[<sup>[4]</sup>](#fournote).\n",
    "\n",
    "As such, we are interested in determining how popular music tends to group together based on its audio feature measurements, without the influence of genre labels."
   ]
  },
  {
   "cell_type": "markdown",
   "metadata": {},
   "source": [
    "# Problem Statement\n",
    "\n",
    "We aim to determine underlying patterns and structures behind audio features in popular music. Specifically, we will look at numerical measurements and ratings of top songs (e.g. duration, tempo, energy, etc.), and observe how these songs cluster together based on these properties. Some specific ML solutions we can apply to this would be k-means clustering, GMM, PCA, and LDA depending on how well a linear solution would work on our dataset."
   ]
  },
  {
   "cell_type": "markdown",
   "metadata": {},
   "source": [
    "# Data\n",
    "\n",
    "For our project, we'll examine the Billboard Year-End Hot 100 songs spanning from 2000 to 2023. In this current dataset, there are 2,300 songs (with 2,300 observations), and 22 variables including basic info about the artist, album, release date, as well as Spotify audio features like liveness, valence, and tempo. The dataset can be found here.\n",
    "\n",
    "We have another dataset, titled genre.csv, which also includes information about each song, but mostly information about the artists. Additionally, this dataset does not include duplicate songs, so it only has 2,117 rows (instead of 2,300). For each song, it includes the artist type (person or group), the artist gender, and the song genre.\n",
    "\n",
    "The critical variables will be the audio features, which are mostly represented with floats. It’s not clear that we’ll need to do much cleaning, but we might need to do some scaling or dimensionality reduction before analysis.\n"
   ]
  },
  {
   "cell_type": "markdown",
   "metadata": {},
   "source": [
    "# Proposed Solution\n",
    "\n",
    "Our main plan involves several steps. First, we plan to reduce the dimensionality of our data using PCA, in order to prepare it for clustering. We plan to use K-means clustering to form the clusters. To determine the optimal number of clusters, we will use the Elbow method. Once we have reached an optimal solution, we will evaluate it with the Silhouette Score, as described below."
   ]
  },
  {
   "cell_type": "markdown",
   "metadata": {},
   "source": [
    "# Evaluation Metrics\n",
    "Some evaluation metrics we are thinking of using include the Silhouette Score and Elbow Method, to determine the appropriate number of clusters. Once we determine the appropriate number of clusters and come to a conclusion using unsupervised machine learning methods, we can see how well our models generalize and utilize the labels with supervised machine learning, since we have the types and number of genres. "
   ]
  },
  {
   "cell_type": "markdown",
   "metadata": {},
   "source": [
    "# Ethics & Privacy"
   ]
  },
  {
   "cell_type": "markdown",
   "metadata": {},
   "source": [
    "Our project acknowledges potential ethical concerns regarding user privacy and bias in our Spotify data analysis. While our data may be influenced by individual listening patterns, it does not include any personal identifying information. We will comply with privacy regulations and attend to biases as they come up. There will be rigorous testing done before the end of the analysis that will ensure accountability and prevent unintended consequences."
   ]
  },
  {
   "cell_type": "markdown",
   "metadata": {},
   "source": [
    "# Team Expectations "
   ]
  },
  {
   "cell_type": "markdown",
   "metadata": {},
   "source": [
    "- If there is a conflict, attempt to resolve among participating parties but can ask for whole group to moderate conflict\n",
    "- Be honest and open-minded, listening to others’ viewpoints and perspectives\n",
    "- Team members should strive for equal participation\n",
    "- When needing help or having trouble meeting deadlines, should let other group members know\n",
    "- Meet once a week at the minimum, either in person or remotely\n"
   ]
  },
  {
   "cell_type": "markdown",
   "metadata": {},
   "source": [
    "# Project Timeline Proposal"
   ]
  },
  {
   "cell_type": "markdown",
   "metadata": {},
   "source": [
    "\n",
    "| Meeting Date  | Meeting Time| Completed Before Meeting  | Discuss at Meeting |\n",
    "|---|---|---|---|\n",
    "| 2/19  |  1 PM |  Brainstorm topics/questions (all)  | Discuss and decide on the final project topic and dataset(s), start distributing and writing project proposal. | \n",
    "| 2/20  |  10 AM |  Work on assigned sections for project proposal (all) | Discuss any updates with our assigned sections, and continue working on the programming for the ML models. | \n",
    "| 2/27  | 10 AM  | Do assigned work (all)  | Discuss any updates with our assigned sections, and continue working on the programming for the ML models. Start drafting and distributing work for the final project report. |\n",
    "| 3/5  | 6 PM  | Do assigned work (all) | Discuss any updates with our assigned sections, and continue working on the programming for the ML models. Start drafting and distributing work for the final project report.  |\n",
    "| 3/12  | 12 PM  | Do assigned work (all) | Finalize the programming portion of the project. Continue editing and working on the final project writeup, and ask questions/distribute any other work as needed.  |\n",
    "| 3/17  | 12 PM  | Do assigned work (all) | Discuss/edit full project report. Finalize a draft that should be ready to submit soon. |\n",
    "| 3/19  | Before 11:59 PM  | NA | Turn in Final Project  |"
   ]
  },
  {
   "cell_type": "markdown",
   "metadata": {},
   "source": [
    "# Footnotes\n",
    "<a name=\"onenote\"></a>1.[^](#one): https://developer.spotify.com/documentation/web-api/reference/get-audio-features \n",
    "\n",
    "<a name=\"twonote\"></a>2.[^](#two): https://www.analyticsvidhya.com/blog/2023/03/solving-spotify-multiclass-genre-classification-problem/\n",
    "\n",
    "<a name=\"threenote\"></a>3.[^](#three): https://www.kaggle.com/code/danielsheen/spotify-song-genre-classification \n",
    "\n",
    "<a name=\"fournote\"></a>4.[^](#four): https://www.newyorker.com/magazine/2021/03/15/genre-is-disappearing-what-comes-next \n"
   ]
  },
  {
   "cell_type": "code",
   "execution_count": null,
   "metadata": {},
   "outputs": [],
   "source": []
  }
 ],
 "metadata": {
  "kernelspec": {
   "display_name": "Python 3 (ipykernel)",
   "language": "python",
   "name": "python3"
  },
  "language_info": {
   "codemirror_mode": {
    "name": "ipython",
    "version": 3
   },
   "file_extension": ".py",
   "mimetype": "text/x-python",
   "name": "python",
   "nbconvert_exporter": "python",
   "pygments_lexer": "ipython3",
   "version": "3.11.4"
  }
 },
 "nbformat": 4,
 "nbformat_minor": 2
}
